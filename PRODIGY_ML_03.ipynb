{
  "metadata": {
    "kernelspec": {
      "language": "python",
      "display_name": "Python 3",
      "name": "python3"
    },
    "language_info": {
      "pygments_lexer": "ipython3",
      "nbconvert_exporter": "python",
      "version": "3.6.4",
      "file_extension": ".py",
      "codemirror_mode": {
        "name": "ipython",
        "version": 3
      },
      "name": "python",
      "mimetype": "text/x-python"
    },
    "colab": {
      "provenance": [],
      "include_colab_link": true
    }
  },
  "nbformat_minor": 0,
  "nbformat": 4,
  "cells": [
    {
      "cell_type": "markdown",
      "metadata": {
        "id": "view-in-github",
        "colab_type": "text"
      },
      "source": [
        "<a href=\"https://colab.research.google.com/github/richa-kaplesh/new-repositery/blob/main/PRODIGY_ML_03.ipynb\" target=\"_parent\"><img src=\"https://colab.research.google.com/assets/colab-badge.svg\" alt=\"Open In Colab\"/></a>"
      ]
    },
    {
      "source": [
        "\n",
        "\n",
        "\n",
        "import os\n",
        "import sys\n",
        "from tempfile import NamedTemporaryFile\n",
        "from urllib.request import urlopen\n",
        "from urllib.parse import unquote, urlparse\n",
        "from urllib.error import HTTPError\n",
        "from zipfile import ZipFile\n",
        "import tarfile\n",
        "import shutil\n",
        "\n",
        "CHUNK_SIZE = 40960\n",
        "DATA_SOURCE_MAPPING = 'cat-and-dog:https%3A%2F%2Fstorage.googleapis.com%2Fkaggle-data-sets%2F23777%2F30378%2Fbundle%2Farchive.zip%3FX-Goog-Algorithm%3DGOOG4-RSA-SHA256%26X-Goog-Credential%3Dgcp-kaggle-com%2540kaggle-161607.iam.gserviceaccount.com%252F20240626%252Fauto%252Fstorage%252Fgoog4_request%26X-Goog-Date%3D20240626T100541Z%26X-Goog-Expires%3D259200%26X-Goog-SignedHeaders%3Dhost%26X-Goog-Signature%3D15add611e190601aedc5d70c75adabe070044cc0f4b91c2fe93a0f8f0bad14b97ed35557a6802775b229d85fe1fc13a8c171d262b844c1a2547a959114688d9f3902d7d469cf6935b50a3685f8c41f1307bdbbefbab6e7dab563a76d9e584e1a0564dc63115749f661ef0892c1b80375593d39825ec75d4cc6ea68ea49005eba1079fe39066a4a92c62bb48fc159e2c56cdb109a03ff4484402c25f79f6668c2a63bcbcd5a723b189f26a86bdeb12470da8b36b7cd664cce0f13131f2847e2898e62c8c8cc39a1a323c8a11d8749e6b2e42a8b221b14dc881e86c9544fbaa573268d7124d279fe74df0e3ec6fa953fb926f3180ac4dcbbb125825647ea488acc'\n",
        "\n",
        "KAGGLE_INPUT_PATH='/kaggle/input'\n",
        "KAGGLE_WORKING_PATH='/kaggle/working'\n",
        "KAGGLE_SYMLINK='kaggle'\n",
        "\n",
        "!umount /kaggle/input/ 2> /dev/null\n",
        "shutil.rmtree('/kaggle/input', ignore_errors=True)\n",
        "os.makedirs(KAGGLE_INPUT_PATH, 0o777, exist_ok=True)\n",
        "os.makedirs(KAGGLE_WORKING_PATH, 0o777, exist_ok=True)\n",
        "\n",
        "try:\n",
        "  os.symlink(KAGGLE_INPUT_PATH, os.path.join(\"..\", 'input'), target_is_directory=True)\n",
        "except FileExistsError:\n",
        "  pass\n",
        "try:\n",
        "  os.symlink(KAGGLE_WORKING_PATH, os.path.join(\"..\", 'working'), target_is_directory=True)\n",
        "except FileExistsError:\n",
        "  pass\n",
        "\n",
        "for data_source_mapping in DATA_SOURCE_MAPPING.split(','):\n",
        "    directory, download_url_encoded = data_source_mapping.split(':')\n",
        "    download_url = unquote(download_url_encoded)\n",
        "    filename = urlparse(download_url).path\n",
        "    destination_path = os.path.join(KAGGLE_INPUT_PATH, directory)\n",
        "    try:\n",
        "        with urlopen(download_url) as fileres, NamedTemporaryFile() as tfile:\n",
        "            total_length = fileres.headers['content-length']\n",
        "            print(f'Downloading {directory}, {total_length} bytes compressed')\n",
        "            dl = 0\n",
        "            data = fileres.read(CHUNK_SIZE)\n",
        "            while len(data) > 0:\n",
        "                dl += len(data)\n",
        "                tfile.write(data)\n",
        "                done = int(50 * dl / int(total_length))\n",
        "                sys.stdout.write(f\"\\r[{'=' * done}{' ' * (50-done)}] {dl} bytes downloaded\")\n",
        "                sys.stdout.flush()\n",
        "                data = fileres.read(CHUNK_SIZE)\n",
        "            if filename.endswith('.zip'):\n",
        "              with ZipFile(tfile) as zfile:\n",
        "                zfile.extractall(destination_path)\n",
        "            else:\n",
        "              with tarfile.open(tfile.name) as tarfile:\n",
        "                tarfile.extractall(destination_path)\n",
        "            print(f'\\nDownloaded and uncompressed: {directory}')\n",
        "    except HTTPError as e:\n",
        "        print(f'Failed to load (likely expired) {download_url} to path {destination_path}')\n",
        "        continue\n",
        "    except OSError as e:\n",
        "        print(f'Failed to load {download_url} to path {destination_path}')\n",
        "        continue\n",
        "\n",
        "print('Data source import complete.')\n"
      ],
      "metadata": {
        "id": "hwoapLMSAiXG",
        "outputId": "6cf8058e-d6bf-42b3-f2ec-2500a408de61",
        "colab": {
          "base_uri": "https://localhost:8080/"
        }
      },
      "cell_type": "code",
      "outputs": [
        {
          "output_type": "stream",
          "name": "stdout",
          "text": [
            "Downloading cat-and-dog, 228487605 bytes compressed\n",
            "[==================================================] 228487605 bytes downloaded\n",
            "Downloaded and uncompressed: cat-and-dog\n",
            "Data source import complete.\n"
          ]
        }
      ],
      "execution_count": null
    },
    {
      "cell_type": "markdown",
      "source": [
        "## Importing the Usefull Modules"
      ],
      "metadata": {
        "id": "LeWCCxpcAiXJ"
      }
    },
    {
      "cell_type": "code",
      "source": [
        "import pandas as pd\n",
        "import numpy as np\n",
        "import tensorflow as tf\n",
        "\n",
        "import warnings\n",
        "warnings.filterwarnings('ignore')"
      ],
      "metadata": {
        "execution": {
          "iopub.status.busy": "2021-12-09T16:12:49.374811Z",
          "iopub.execute_input": "2021-12-09T16:12:49.375064Z",
          "iopub.status.idle": "2021-12-09T16:12:49.3807Z",
          "shell.execute_reply.started": "2021-12-09T16:12:49.375038Z",
          "shell.execute_reply": "2021-12-09T16:12:49.379889Z"
        },
        "trusted": true,
        "id": "SkkClX5aAiXK"
      },
      "execution_count": null,
      "outputs": []
    },
    {
      "cell_type": "code",
      "source": [
        "from tensorflow.compat.v1 import ConfigProto\n",
        "from tensorflow.compat.v1 import InteractiveSession\n",
        "\n",
        "config = ConfigProto()\n",
        "config.gpu_options.per_process_gpu_memory_fraction = 0.6\n",
        "config.gpu_options.allow_growth = True\n",
        "session = InteractiveSession(config=config)"
      ],
      "metadata": {
        "execution": {
          "iopub.status.busy": "2021-12-09T16:12:49.38273Z",
          "iopub.execute_input": "2021-12-09T16:12:49.382994Z",
          "iopub.status.idle": "2021-12-09T16:12:49.399731Z",
          "shell.execute_reply.started": "2021-12-09T16:12:49.382961Z",
          "shell.execute_reply": "2021-12-09T16:12:49.398661Z"
        },
        "trusted": true,
        "id": "Cr6GYCSnAiXK"
      },
      "execution_count": null,
      "outputs": []
    },
    {
      "cell_type": "code",
      "source": [
        "from tensorflow.keras.preprocessing.image import ImageDataGenerator\n",
        "\n",
        "datagen = ImageDataGenerator(rescale=1./255, shear_range=0.2, zoom_range=0.2, horizontal_flip=True)\n",
        "\n",
        "training_set = datagen.flow_from_directory(\n",
        "        \"../input/cat-and-dog/training_set/training_set/\",\n",
        "        target_size=(64, 64),\n",
        "        batch_size=32,\n",
        "        class_mode=\"binary\"\n",
        "      )\n"
      ],
      "metadata": {
        "execution": {
          "iopub.status.busy": "2021-12-09T16:12:49.40171Z",
          "iopub.execute_input": "2021-12-09T16:12:49.401981Z",
          "iopub.status.idle": "2021-12-09T16:12:50.93101Z",
          "shell.execute_reply.started": "2021-12-09T16:12:49.401944Z",
          "shell.execute_reply": "2021-12-09T16:12:50.930263Z"
        },
        "trusted": true,
        "id": "l6OIpszEAiXK",
        "outputId": "54dcd83f-0aa1-4356-ab88-bd5ea7f94629",
        "colab": {
          "base_uri": "https://localhost:8080/"
        }
      },
      "execution_count": null,
      "outputs": [
        {
          "output_type": "stream",
          "name": "stdout",
          "text": [
            "Found 8005 images belonging to 2 classes.\n"
          ]
        }
      ]
    },
    {
      "cell_type": "markdown",
      "source": [
        "### Preprocessing the test Data using ImageDataGenerator"
      ],
      "metadata": {
        "id": "Ieh6fH7UAiXL"
      }
    },
    {
      "cell_type": "code",
      "source": [
        "datagen1 = ImageDataGenerator(rescale=1./255)\n",
        "\n",
        "test_set = datagen1.flow_from_directory(\n",
        "        \"../input/cat-and-dog/test_set/test_set\",\n",
        "        target_size=(64, 64),\n",
        "        batch_size=32,\n",
        "        class_mode=\"binary\"\n",
        "      )"
      ],
      "metadata": {
        "execution": {
          "iopub.status.busy": "2021-12-09T16:12:50.932504Z",
          "iopub.execute_input": "2021-12-09T16:12:50.933193Z",
          "iopub.status.idle": "2021-12-09T16:12:51.048407Z",
          "shell.execute_reply.started": "2021-12-09T16:12:50.933152Z",
          "shell.execute_reply": "2021-12-09T16:12:51.047642Z"
        },
        "trusted": true,
        "id": "NZUD9Lt-AiXL",
        "outputId": "3bb867ff-e694-42d0-cb7e-c1a8fc7e453c",
        "colab": {
          "base_uri": "https://localhost:8080/"
        }
      },
      "execution_count": null,
      "outputs": [
        {
          "output_type": "stream",
          "name": "stdout",
          "text": [
            "Found 2023 images belonging to 2 classes.\n"
          ]
        }
      ]
    },
    {
      "cell_type": "markdown",
      "source": [
        "# Creating the Model"
      ],
      "metadata": {
        "id": "jBND_vMeAiXL"
      }
    },
    {
      "cell_type": "markdown",
      "source": [
        "### Importing useful models for CNN Layers"
      ],
      "metadata": {
        "id": "LqeSObMEAiXL"
      }
    },
    {
      "cell_type": "code",
      "source": [
        "from tensorflow.keras.layers import Conv2D\n",
        "from tensorflow.keras.layers import Dense"
      ],
      "metadata": {
        "execution": {
          "iopub.status.busy": "2021-12-09T16:12:51.049787Z",
          "iopub.execute_input": "2021-12-09T16:12:51.050027Z",
          "iopub.status.idle": "2021-12-09T16:12:51.053916Z",
          "shell.execute_reply.started": "2021-12-09T16:12:51.049994Z",
          "shell.execute_reply": "2021-12-09T16:12:51.053194Z"
        },
        "trusted": true,
        "id": "jwavjZI6AiXL"
      },
      "execution_count": null,
      "outputs": []
    },
    {
      "cell_type": "code",
      "source": [
        "from tensorflow.keras.regularizers import l2"
      ],
      "metadata": {
        "execution": {
          "iopub.status.busy": "2021-12-09T16:12:51.056382Z",
          "iopub.execute_input": "2021-12-09T16:12:51.056931Z",
          "iopub.status.idle": "2021-12-09T16:12:51.063238Z",
          "shell.execute_reply.started": "2021-12-09T16:12:51.056893Z",
          "shell.execute_reply": "2021-12-09T16:12:51.062519Z"
        },
        "trusted": true,
        "id": "jbg2uTWXAiXL"
      },
      "execution_count": null,
      "outputs": []
    },
    {
      "cell_type": "markdown",
      "source": [
        "### When to use a Sequential model\n",
        "\n",
        "A Sequential model is appropriate for a plain stack of layers where each layer has exactly one input tensor and one output tensor.\n",
        "\n",
        "A Sequential model is **not appropriate** when:\n",
        "- Your model has multiple inputs or multiple outputs\n",
        "- Any of your layers has multiple inputs or multiple outputs\n",
        "- You need to do layer sharing\n",
        "- You want non-linear topology (e.g. a residual connection, a multi-branch model)\n"
      ],
      "metadata": {
        "id": "QHpbWDIUAiXM"
      }
    },
    {
      "cell_type": "code",
      "source": [
        "cnn = tf.keras.models.Sequential()"
      ],
      "metadata": {
        "execution": {
          "iopub.status.busy": "2021-12-09T16:12:51.065211Z",
          "iopub.execute_input": "2021-12-09T16:12:51.066563Z",
          "iopub.status.idle": "2021-12-09T16:12:51.075891Z",
          "shell.execute_reply.started": "2021-12-09T16:12:51.066484Z",
          "shell.execute_reply": "2021-12-09T16:12:51.075122Z"
        },
        "trusted": true,
        "id": "T7WQTFoEAiXM"
      },
      "execution_count": null,
      "outputs": []
    },
    {
      "cell_type": "code",
      "source": [
        "cnn.add(tf.keras.layers.Conv2D(filters=32,padding=\"same\",kernel_size=3, activation='relu', strides=2, input_shape=[64, 64, 3]))"
      ],
      "metadata": {
        "execution": {
          "iopub.status.busy": "2021-12-09T16:12:51.078265Z",
          "iopub.execute_input": "2021-12-09T16:12:51.078945Z",
          "iopub.status.idle": "2021-12-09T16:12:51.095098Z",
          "shell.execute_reply.started": "2021-12-09T16:12:51.078905Z",
          "shell.execute_reply": "2021-12-09T16:12:51.094149Z"
        },
        "trusted": true,
        "id": "PUvMx3hyAiXM"
      },
      "execution_count": null,
      "outputs": []
    },
    {
      "cell_type": "markdown",
      "source": [
        "### Step 2 - Pooling\n",
        "Downsamples the input along its spatial dimensions (height and width) by taking the maximum value over an input window (of size defined by pool_size) for each channel of the input. The window is shifted by strides along each dimension."
      ],
      "metadata": {
        "id": "6u8s4i4qAiXM"
      }
    },
    {
      "cell_type": "code",
      "source": [
        "cnn.add(tf.keras.layers.MaxPool2D(pool_size=2, strides=2))"
      ],
      "metadata": {
        "execution": {
          "iopub.status.busy": "2021-12-09T16:12:51.095921Z",
          "iopub.execute_input": "2021-12-09T16:12:51.096099Z",
          "iopub.status.idle": "2021-12-09T16:12:51.10472Z",
          "shell.execute_reply.started": "2021-12-09T16:12:51.096071Z",
          "shell.execute_reply": "2021-12-09T16:12:51.103863Z"
        },
        "trusted": true,
        "id": "OpJKJ8JIAiXM"
      },
      "execution_count": null,
      "outputs": []
    },
    {
      "cell_type": "markdown",
      "source": [
        "### Adding a second convolutional layer"
      ],
      "metadata": {
        "id": "Q28XChklAiXM"
      }
    },
    {
      "cell_type": "code",
      "source": [
        "cnn.add(tf.keras.layers.Conv2D(filters=32,padding='same',kernel_size=3, activation='relu'))\n",
        "cnn.add(tf.keras.layers.MaxPool2D(pool_size=2, strides=2))"
      ],
      "metadata": {
        "execution": {
          "iopub.status.busy": "2021-12-09T16:12:51.106165Z",
          "iopub.execute_input": "2021-12-09T16:12:51.106707Z",
          "iopub.status.idle": "2021-12-09T16:12:51.12252Z",
          "shell.execute_reply.started": "2021-12-09T16:12:51.106671Z",
          "shell.execute_reply": "2021-12-09T16:12:51.121833Z"
        },
        "trusted": true,
        "id": "9qbDvK3WAiXM"
      },
      "execution_count": null,
      "outputs": []
    },
    {
      "cell_type": "code",
      "source": [
        "cnn.add(tf.keras.layers.Flatten())"
      ],
      "metadata": {
        "execution": {
          "iopub.status.busy": "2021-12-09T16:12:51.123708Z",
          "iopub.execute_input": "2021-12-09T16:12:51.12414Z",
          "iopub.status.idle": "2021-12-09T16:12:51.131715Z",
          "shell.execute_reply.started": "2021-12-09T16:12:51.124106Z",
          "shell.execute_reply": "2021-12-09T16:12:51.13103Z"
        },
        "trusted": true,
        "id": "kup1pwqpAiXN"
      },
      "execution_count": null,
      "outputs": []
    },
    {
      "cell_type": "markdown",
      "source": [
        "### Step 4 - Full Connection"
      ],
      "metadata": {
        "id": "i2YPkfogAiXN"
      }
    },
    {
      "cell_type": "code",
      "source": [
        "cnn.add(tf.keras.layers.Dense(units=128, activation='relu'))"
      ],
      "metadata": {
        "execution": {
          "iopub.status.busy": "2021-12-09T16:12:51.136137Z",
          "iopub.execute_input": "2021-12-09T16:12:51.13676Z",
          "iopub.status.idle": "2021-12-09T16:12:51.149426Z",
          "shell.execute_reply.started": "2021-12-09T16:12:51.136721Z",
          "shell.execute_reply": "2021-12-09T16:12:51.148693Z"
        },
        "trusted": true,
        "id": "lwymKdokAiXN"
      },
      "execution_count": null,
      "outputs": []
    },
    {
      "cell_type": "markdown",
      "source": [
        "### Step 5 - Output Layer"
      ],
      "metadata": {
        "id": "LoYMes07AiXN"
      }
    },
    {
      "cell_type": "code",
      "source": [
        "cnn.add(Dense(1, kernel_regularizer=tf.keras.regularizers.l2(0.01),activation\n",
        "             ='linear'))"
      ],
      "metadata": {
        "execution": {
          "iopub.status.busy": "2021-12-09T16:12:51.150779Z",
          "iopub.execute_input": "2021-12-09T16:12:51.151056Z",
          "iopub.status.idle": "2021-12-09T16:12:51.163855Z",
          "shell.execute_reply.started": "2021-12-09T16:12:51.151023Z",
          "shell.execute_reply": "2021-12-09T16:12:51.163143Z"
        },
        "trusted": true,
        "id": "ME4VUcd3AiXN"
      },
      "execution_count": null,
      "outputs": []
    },
    {
      "cell_type": "markdown",
      "source": [
        "### Printing out the summary of the Layers"
      ],
      "metadata": {
        "id": "_xrqfVJ0AiXN"
      }
    },
    {
      "cell_type": "code",
      "source": [
        "cnn.summary()"
      ],
      "metadata": {
        "execution": {
          "iopub.status.busy": "2021-12-09T16:12:51.165114Z",
          "iopub.execute_input": "2021-12-09T16:12:51.165583Z",
          "iopub.status.idle": "2021-12-09T16:12:51.17565Z",
          "shell.execute_reply.started": "2021-12-09T16:12:51.165547Z",
          "shell.execute_reply": "2021-12-09T16:12:51.174662Z"
        },
        "trusted": true,
        "id": "_cpEsmQQAiXN",
        "outputId": "a21e262b-d5a6-4aef-dc52-4f076c95b8ab",
        "colab": {
          "base_uri": "https://localhost:8080/"
        }
      },
      "execution_count": null,
      "outputs": [
        {
          "output_type": "stream",
          "name": "stdout",
          "text": [
            "Model: \"sequential\"\n",
            "_________________________________________________________________\n",
            " Layer (type)                Output Shape              Param #   \n",
            "=================================================================\n",
            " conv2d (Conv2D)             (None, 32, 32, 32)        896       \n",
            "                                                                 \n",
            " max_pooling2d (MaxPooling2  (None, 16, 16, 32)        0         \n",
            " D)                                                              \n",
            "                                                                 \n",
            " conv2d_1 (Conv2D)           (None, 16, 16, 32)        9248      \n",
            "                                                                 \n",
            " max_pooling2d_1 (MaxPoolin  (None, 8, 8, 32)          0         \n",
            " g2D)                                                            \n",
            "                                                                 \n",
            " flatten (Flatten)           (None, 2048)              0         \n",
            "                                                                 \n",
            " dense (Dense)               (None, 128)               262272    \n",
            "                                                                 \n",
            " dense_1 (Dense)             (None, 1)                 129       \n",
            "                                                                 \n",
            "=================================================================\n",
            "Total params: 272545 (1.04 MB)\n",
            "Trainable params: 272545 (1.04 MB)\n",
            "Non-trainable params: 0 (0.00 Byte)\n",
            "_________________________________________________________________\n"
          ]
        }
      ]
    },
    {
      "cell_type": "markdown",
      "source": [
        "## Training the CNN"
      ],
      "metadata": {
        "id": "PNWIwieQAiXN"
      }
    },
    {
      "cell_type": "code",
      "source": [
        "cnn.compile(optimizer = 'adam', loss = 'hinge', metrics = ['accuracy'])"
      ],
      "metadata": {
        "execution": {
          "iopub.status.busy": "2021-12-09T16:12:51.176692Z",
          "iopub.execute_input": "2021-12-09T16:12:51.17751Z",
          "iopub.status.idle": "2021-12-09T16:12:51.187494Z",
          "shell.execute_reply.started": "2021-12-09T16:12:51.177472Z",
          "shell.execute_reply": "2021-12-09T16:12:51.186495Z"
        },
        "trusted": true,
        "id": "B0PDF0m5AiXN"
      },
      "execution_count": null,
      "outputs": []
    },
    {
      "cell_type": "code",
      "source": [
        "r=cnn.fit(x = training_set, validation_data = test_set, epochs = 15)"
      ],
      "metadata": {
        "execution": {
          "iopub.status.busy": "2021-12-09T16:12:51.188967Z",
          "iopub.execute_input": "2021-12-09T16:12:51.189225Z",
          "iopub.status.idle": "2021-12-09T16:21:59.056429Z",
          "shell.execute_reply.started": "2021-12-09T16:12:51.189191Z",
          "shell.execute_reply": "2021-12-09T16:21:59.055597Z"
        },
        "trusted": true,
        "id": "fC-R0fwrAiXN",
        "outputId": "ed48b26e-4ec6-499b-cab8-d4f005880a26",
        "colab": {
          "base_uri": "https://localhost:8080/"
        }
      },
      "execution_count": null,
      "outputs": [
        {
          "output_type": "stream",
          "name": "stdout",
          "text": [
            "Epoch 1/15\n",
            "251/251 [==============================] - 50s 191ms/step - loss: 0.9333 - accuracy: 0.5492 - val_loss: 0.7826 - val_accuracy: 0.5912\n",
            "Epoch 2/15\n",
            "251/251 [==============================] - 39s 156ms/step - loss: 0.7457 - accuracy: 0.6496 - val_loss: 0.7240 - val_accuracy: 0.6125\n",
            "Epoch 3/15\n",
            "251/251 [==============================] - 32s 129ms/step - loss: 0.6797 - accuracy: 0.6800 - val_loss: 0.6411 - val_accuracy: 0.7128\n",
            "Epoch 4/15\n",
            "251/251 [==============================] - 31s 125ms/step - loss: 0.6268 - accuracy: 0.7096 - val_loss: 0.6232 - val_accuracy: 0.7222\n",
            "Epoch 5/15\n",
            "251/251 [==============================] - 33s 130ms/step - loss: 0.6092 - accuracy: 0.7177 - val_loss: 0.6086 - val_accuracy: 0.7296\n",
            "Epoch 6/15\n",
            "251/251 [==============================] - 31s 124ms/step - loss: 0.5764 - accuracy: 0.7343 - val_loss: 0.6991 - val_accuracy: 0.7395\n",
            "Epoch 7/15\n",
            "251/251 [==============================] - 32s 127ms/step - loss: 0.5725 - accuracy: 0.7380 - val_loss: 0.5571 - val_accuracy: 0.7617\n",
            "Epoch 8/15\n",
            "251/251 [==============================] - 32s 128ms/step - loss: 0.5418 - accuracy: 0.7492 - val_loss: 0.5665 - val_accuracy: 0.7642\n",
            "Epoch 9/15\n",
            "251/251 [==============================] - 33s 133ms/step - loss: 0.5283 - accuracy: 0.7548 - val_loss: 0.5298 - val_accuracy: 0.7662\n",
            "Epoch 10/15\n",
            "251/251 [==============================] - 33s 132ms/step - loss: 0.5145 - accuracy: 0.7625 - val_loss: 0.5782 - val_accuracy: 0.7776\n",
            "Epoch 11/15\n",
            "251/251 [==============================] - 32s 129ms/step - loss: 0.5086 - accuracy: 0.7639 - val_loss: 0.5629 - val_accuracy: 0.7771\n",
            "Epoch 12/15\n",
            "251/251 [==============================] - 31s 125ms/step - loss: 0.4845 - accuracy: 0.7745 - val_loss: 0.5603 - val_accuracy: 0.7845\n",
            "Epoch 13/15\n",
            "251/251 [==============================] - 34s 136ms/step - loss: 0.4883 - accuracy: 0.7773 - val_loss: 0.5156 - val_accuracy: 0.7865\n",
            "Epoch 14/15\n",
            "251/251 [==============================] - 31s 124ms/step - loss: 0.4666 - accuracy: 0.7843 - val_loss: 0.4948 - val_accuracy: 0.7771\n",
            "Epoch 15/15\n",
            "251/251 [==============================] - 34s 134ms/step - loss: 0.4679 - accuracy: 0.7865 - val_loss: 0.5051 - val_accuracy: 0.7983\n"
          ]
        }
      ]
    },
    {
      "cell_type": "markdown",
      "source": [
        "## Ploting the Train loss,val loss and train acc, val acc"
      ],
      "metadata": {
        "id": "phm1Uzm6AiXN"
      }
    },
    {
      "cell_type": "code",
      "source": [
        "# plot the loss\n",
        "import matplotlib.pyplot as plt\n",
        "plt.plot(r.history['loss'], label='train loss')\n",
        "plt.plot(r.history['val_loss'], label='val loss')\n",
        "plt.legend()\n",
        "plt.show()\n",
        "\n",
        "# plot the accuracy\n",
        "plt.plot(r.history['accuracy'], label='train acc')\n",
        "plt.plot(r.history['val_accuracy'], label='val acc')\n",
        "plt.legend()\n",
        "plt.show()"
      ],
      "metadata": {
        "execution": {
          "iopub.status.busy": "2021-12-09T16:21:59.057809Z",
          "iopub.execute_input": "2021-12-09T16:21:59.058667Z",
          "iopub.status.idle": "2021-12-09T16:21:59.440896Z",
          "shell.execute_reply.started": "2021-12-09T16:21:59.058626Z",
          "shell.execute_reply": "2021-12-09T16:21:59.440219Z"
        },
        "trusted": true,
        "id": "tDPOguFdAiXN",
        "outputId": "40b4ffb8-bfd7-4125-8318-440848aa9b97",
        "colab": {
          "base_uri": "https://localhost:8080/",
          "height": 843
        }
      },
      "execution_count": null,
      "outputs": [
        {
          "output_type": "display_data",
          "data": {
            "text/plain": [
              "<Figure size 640x480 with 1 Axes>"
            ],
            "image/png": "[encoded data removed]"
          },
          "metadata": {}
        },
        {
          "output_type": "display_data",
          "data": {
            "text/plain": [
              "<Figure size 640x480 with 1 Axes>"
            ],
            "image/png": "[encoded data removed]"
          },
          "metadata": {}
        }
      ]
    },
    {
      "cell_type": "markdown",
      "source": [
        "### Saving the trained model"
      ],
      "metadata": {
        "id": "QPi3Is3TAiXN"
      }
    },
    {
      "cell_type": "code",
      "source": [
        "from tensorflow.keras.models import load_model\n",
        "\n",
        "cnn.save('./model_rcat_dog.h5')"
      ],
      "metadata": {
        "execution": {
          "iopub.status.busy": "2021-12-09T16:21:59.442059Z",
          "iopub.execute_input": "2021-12-09T16:21:59.442311Z",
          "iopub.status.idle": "2021-12-09T16:21:59.504716Z",
          "shell.execute_reply.started": "2021-12-09T16:21:59.442276Z",
          "shell.execute_reply": "2021-12-09T16:21:59.504001Z"
        },
        "trusted": true,
        "id": "NflYH8IJAiXN"
      },
      "execution_count": null,
      "outputs": []
    },
    {
      "cell_type": "markdown",
      "source": [
        "### Taking the sample image converting the image to an array and predicting the result"
      ],
      "metadata": {
        "id": "QCzXe1E-AiXQ"
      }
    },
    {
      "cell_type": "code",
      "source": [
        "from tensorflow.keras.preprocessing import image\n",
        "test_image = image.load_img('../input/cat-and-dog/training_set/training_set/dogs/dog.1023.jpg', target_size = (64,64))\n",
        "test_image = image.img_to_array(test_image)\n",
        "test_image=test_image/255\n",
        "test_image = np.expand_dims(test_image, axis = 0)\n",
        "result = cnn.predict(test_image)"
      ],
      "metadata": {
        "execution": {
          "iopub.status.busy": "2021-12-09T16:21:59.598873Z",
          "iopub.execute_input": "2021-12-09T16:21:59.599065Z",
          "iopub.status.idle": "2021-12-09T16:21:59.694136Z",
          "shell.execute_reply.started": "2021-12-09T16:21:59.599041Z",
          "shell.execute_reply": "2021-12-09T16:21:59.693429Z"
        },
        "trusted": true,
        "id": "uBuGJJ98AiXR",
        "outputId": "83fa1334-b8e4-4c83-88a7-1e274ebb8798",
        "colab": {
          "base_uri": "https://localhost:8080/"
        }
      },
      "execution_count": null,
      "outputs": [
        {
          "output_type": "stream",
          "name": "stdout",
          "text": [
            "1/1 [==============================] - 0s 148ms/step\n"
          ]
        }
      ]
    },
    {
      "cell_type": "code",
      "source": [
        "if result[0]<0:\n",
        "    print(\"The image classified is cat\")\n",
        "else:\n",
        "    print(\"The image classified is dog\")"
      ],
      "metadata": {
        "execution": {
          "iopub.status.busy": "2021-12-09T16:21:59.695681Z",
          "iopub.execute_input": "2021-12-09T16:21:59.695935Z",
          "iopub.status.idle": "2021-12-09T16:21:59.701287Z",
          "shell.execute_reply.started": "2021-12-09T16:21:59.695901Z",
          "shell.execute_reply": "2021-12-09T16:21:59.700558Z"
        },
        "trusted": true,
        "id": "SVtXZuhTAiXR",
        "outputId": "284a63b2-6536-43b9-d46d-3149ee6fa9a2",
        "colab": {
          "base_uri": "https://localhost:8080/"
        }
      },
      "execution_count": null,
      "outputs": [
        {
          "output_type": "stream",
          "name": "stdout",
          "text": [
            "The image classified is dog\n"
          ]
        }
      ]
    }
  ]
}
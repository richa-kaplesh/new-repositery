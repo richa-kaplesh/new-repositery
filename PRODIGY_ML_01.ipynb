{
  "nbformat": 4,
  "nbformat_minor": 0,
  "metadata": {
    "colab": {
      "provenance": [],
      "authorship_tag": "ABX9TyMxCd6AlQr2Piz2lAn/DMRW",
      "include_colab_link": true
    },
    "kernelspec": {
      "name": "python3",
      "display_name": "Python 3"
    },
    "language_info": {
      "name": "python"
    }
  },
  "cells": [
    {
      "cell_type": "markdown",
      "metadata": {
        "id": "view-in-github",
        "colab_type": "text"
      },
      "source": [
        "<a href=\"https://colab.research.google.com/github/richa-kaplesh/new-repositery/blob/main/PRODIGY_ML_01.ipynb\" target=\"_parent\"><img src=\"https://colab.research.google.com/assets/colab-badge.svg\" alt=\"Open In Colab\"/></a>"
      ]
    },
    {
      "cell_type": "code",
      "execution_count": null,
      "metadata": {
        "colab": {
          "base_uri": "https://localhost:8080/"
        },
        "id": "w30SS0NCdn-x",
        "outputId": "c48f208b-08a7-44f5-b278-5e5dc0a838a9"
      },
      "outputs": [
        {
          "output_type": "stream",
          "name": "stdout",
          "text": [
            "Requirement already satisfied: scikit-learn in /usr/local/lib/python3.10/dist-packages (1.2.2)\n",
            "Requirement already satisfied: numpy>=1.17.3 in /usr/local/lib/python3.10/dist-packages (from scikit-learn) (1.25.2)\n",
            "Requirement already satisfied: scipy>=1.3.2 in /usr/local/lib/python3.10/dist-packages (from scikit-learn) (1.11.4)\n",
            "Requirement already satisfied: joblib>=1.1.1 in /usr/local/lib/python3.10/dist-packages (from scikit-learn) (1.4.2)\n",
            "Requirement already satisfied: threadpoolctl>=2.0.0 in /usr/local/lib/python3.10/dist-packages (from scikit-learn) (3.5.0)\n"
          ]
        }
      ],
      "source": [
        "!pip install scikit-learn  # Make sure scikit-learn is installed\n",
        "import pandas as pd\n",
        "from sklearn.model_selection import train_test_split\n",
        "from sklearn.preprocessing import RobustScaler, PolynomialFeatures, KBinsDiscretizer, PowerTransformer\n",
        "from sklearn.linear_model import LinearRegression, Lasso, Ridge\n",
        "from sklearn.metrics import mean_squared_error, r2_score\n",
        "from sklearn.inspection import permutation_importance  # Import from the correct module\n",
        "\n",
        "import numpy as np"
      ]
    },
    {
      "cell_type": "code",
      "source": [
        "df = pd.read_csv('train data.csv')\n"
      ],
      "metadata": {
        "id": "dtuKL9AXdqdm"
      },
      "execution_count": null,
      "outputs": []
    },
    {
      "cell_type": "code",
      "source": [
        "print(df.head())"
      ],
      "metadata": {
        "colab": {
          "base_uri": "https://localhost:8080/"
        },
        "id": "XM7mGCw1eIa1",
        "outputId": "94731d96-d082-4b88-94c9-28939426d09e"
      },
      "execution_count": null,
      "outputs": [
        {
          "output_type": "stream",
          "name": "stdout",
          "text": [
            "   Id  Bathroom  Bedroom  SalePrice\n",
            "0   1         2        3     208500\n",
            "1   2         2        3     181500\n",
            "2   3         2        3     223500\n",
            "3   4         1        3     140000\n",
            "4   5         2        4     250000\n"
          ]
        }
      ]
    },
    {
      "cell_type": "code",
      "source": [
        "print(df.describe())"
      ],
      "metadata": {
        "colab": {
          "base_uri": "https://localhost:8080/"
        },
        "id": "9hp4OY9NeLrA",
        "outputId": "2acd818d-bbef-404d-c7be-ca6f173367d4"
      },
      "execution_count": null,
      "outputs": [
        {
          "output_type": "stream",
          "name": "stdout",
          "text": [
            "                Id     Bathroom      Bedroom      SalePrice\n",
            "count  1460.000000  1460.000000  1460.000000    1460.000000\n",
            "mean    730.500000     1.565068     2.866438  180921.195890\n",
            "std     421.610009     0.550916     0.815778   79442.502883\n",
            "min       1.000000     0.000000     0.000000   34900.000000\n",
            "25%     365.750000     1.000000     2.000000  129975.000000\n",
            "50%     730.500000     2.000000     3.000000  163000.000000\n",
            "75%    1095.250000     2.000000     3.000000  214000.000000\n",
            "max    1460.000000     3.000000     8.000000  755000.000000\n"
          ]
        }
      ]
    },
    {
      "cell_type": "code",
      "source": [
        "print(df.isnull().sum())"
      ],
      "metadata": {
        "colab": {
          "base_uri": "https://localhost:8080/"
        },
        "id": "xqML24zRePl_",
        "outputId": "a212f865-72a5-4c00-c457-97b0f07459a8"
      },
      "execution_count": null,
      "outputs": [
        {
          "output_type": "stream",
          "name": "stdout",
          "text": [
            "Id           0\n",
            "Bathroom     0\n",
            "Bedroom      0\n",
            "SalePrice    0\n",
            "dtype: int64\n"
          ]
        }
      ]
    },
    {
      "cell_type": "code",
      "source": [
        "data = df.drop('Id',axis = 1)"
      ],
      "metadata": {
        "id": "s0I1inrskb0v"
      },
      "execution_count": null,
      "outputs": []
    },
    {
      "cell_type": "code",
      "source": [
        "X = data.drop('SalePrice', axis = 1)\n",
        "y = data['SalePrice']"
      ],
      "metadata": {
        "id": "Uvz_zQdSj5iq"
      },
      "execution_count": null,
      "outputs": []
    },
    {
      "cell_type": "code",
      "source": [
        "X['bathrooms_bedrooms'] = X['Bathroom'] * X['Bedroom']\n"
      ],
      "metadata": {
        "id": "d-HZCQrImQlt"
      },
      "execution_count": null,
      "outputs": []
    },
    {
      "cell_type": "code",
      "source": [
        "from sklearn.preprocessing import PolynomialFeatures\n",
        "poly = PolynomialFeatures(degree=2 , include_bias = False)\n",
        "X_poly = poly.fit_transform(X)"
      ],
      "metadata": {
        "id": "I8LbzOVvmgMd"
      },
      "execution_count": null,
      "outputs": []
    },
    {
      "cell_type": "code",
      "source": [
        "from sklearn.preprocessing import StandardScaler\n",
        "scaler = StandardScaler()\n",
        "X_scaled = scaler.fit_transform(X)\n"
      ],
      "metadata": {
        "id": "kHkFRdQ9kqHZ"
      },
      "execution_count": null,
      "outputs": []
    },
    {
      "cell_type": "code",
      "source": [
        "from sklearn.model_selection import train_test_split\n",
        "X_train, X_test, y_train, y_test = train_test_split(X_poly, y_log, test_size=0.2, random_state=42)"
      ],
      "metadata": {
        "id": "Pi6YcU-FlY5C"
      },
      "execution_count": null,
      "outputs": []
    },
    {
      "cell_type": "code",
      "source": [
        "# Data transformation (using PowerTransformer)\n",
        "trans = PowerTransformer()\n",
        "X_train_scaled = trans.fit_transform(X_train)\n",
        "X_test_scaled = trans.transform(X_test)"
      ],
      "metadata": {
        "id": "q20u8g4ZwBB6"
      },
      "execution_count": null,
      "outputs": []
    },
    {
      "cell_type": "code",
      "source": [
        "# Train linear regression models with different techniques\n",
        "models = [\n",
        "    ('Linear Regression', LinearRegression()),\n",
        "    ('Lasso Regression', Lasso(alpha=0.1)),  # Adjust alpha as needed\n",
        "    ('Ridge Regression', Ridge(alpha=1.0)),  # Adjust alpha as needed\n",
        "    ('Huber Regression (Robust)', LinearRegression(fit_intercept=False))  # Use HuberRegressor from sklearn.linear_model for Huber regression\n",
        "]"
      ],
      "metadata": {
        "id": "EOYxdwsawHXB"
      },
      "execution_count": null,
      "outputs": []
    },
    {
      "cell_type": "code",
      "source": [
        "for name, model in models:\n",
        "    model.fit(X_train_scaled, y_train)\n",
        "    y_pred_log = model.predict(X_test_scaled)\n",
        "    y_pred = np.exp(y_pred_log)\n",
        "    mse = mean_squared_error(np.exp(y_test), y_pred)\n",
        "    r2 = r2_score(np.exp(y_test), y_pred)\n",
        "    print(f'{name} MSE: {mse:.2f}, R-squared: {r2:.2f}')\n"
      ],
      "metadata": {
        "colab": {
          "base_uri": "https://localhost:8080/"
        },
        "id": "70zsUgunwInf",
        "outputId": "763e7a61-7e61-4d32-a108-cdb7d322ae91"
      },
      "execution_count": null,
      "outputs": [
        {
          "output_type": "stream",
          "name": "stdout",
          "text": [
            "Linear Regression MSE: 5096519024.56, R-squared: 0.34\n",
            "Lasso Regression MSE: 5979589032.59, R-squared: 0.22\n",
            "Ridge Regression MSE: 5100906213.04, R-squared: 0.33\n",
            "Huber Regression (Robust) MSE: 39653976252.88, R-squared: -4.17\n"
          ]
        }
      ]
    }
  ]
}